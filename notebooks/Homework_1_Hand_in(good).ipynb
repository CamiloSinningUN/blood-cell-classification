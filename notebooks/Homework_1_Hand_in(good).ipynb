{
 "cells": [
  {
   "cell_type": "markdown",
   "metadata": {
    "id": "nuwVgG3Vbbka"
   },
   "source": [
    "# Artificial Neural Networks and Deep Learning\n",
    "\n",
    "---\n",
    "\n",
    "## Homework 1: Hand-in\n",
    "\n",
    "To make your first submission, follow these steps:\n",
    "1. Create a folder named `[2024-2025] AN2DL/Homework 1` in your Google Drive.\n",
    "2. Upload the `training_set.npz` file to this folder.\n",
    "3. Upload the Jupyter notebook `Homework 1 - Minimal Working Example.ipynb`.\n",
    "4. Load and process the data.\n",
    "5. Implement and train your model.\n",
    "6. Submit the generated `.zip` file to Codabench.\n"
   ]
  },
  {
   "cell_type": "markdown",
   "metadata": {
    "id": "dw_-hFm6bjY6"
   },
   "source": [
    "## 🌐 Connect Colab to Google Drive"
   ]
  },
  {
   "cell_type": "code",
   "execution_count": null,
   "metadata": {
    "id": "y2S4GWr3Uoa8"
   },
   "outputs": [],
   "source": [
    "from google.colab import drive\n",
    "\n",
    "drive.mount('/gdrive')\n",
    "%cd /gdrive/My Drive/[2024-2025] AN2DL/Homework 1"
   ]
  },
  {
   "cell_type": "markdown",
   "metadata": {
    "id": "RNp6pUZuddqC"
   },
   "source": [
    "## 📊 Prepare Your Submission\n",
    "\n",
    "To prepare your submission, create a `.zip` file that includes all the necessary code to run your model. It **must** include a `model.py` file with the following class:\n",
    "\n",
    "```python\n",
    "# file: model.py\n",
    "class Model:\n",
    "    def __init__(self):\n",
    "        \"\"\"Initialize the internal state of the model.\"\"\"\n",
    "\n",
    "    def predict(self, X):\n",
    "        \"\"\"Return a numpy array with the labels corresponding to the input X.\"\"\"\n",
    "```\n",
    "\n",
    "The next cell shows an example implementation of the `model.py` file, which includes loading model weights from the `weights.keras` file and conducting predictions on provided input data. The `.zip` file is created and downloaded in the last notebook cell.\n",
    "\n",
    "❗ Feel free to modify the method implementations to better fit your specific requirements, but please ensure that the class name and method interfaces remain unchanged."
   ]
  },
  {
   "cell_type": "code",
   "execution_count": 1,
   "metadata": {
    "colab": {
     "base_uri": "https://localhost:8080/"
    },
    "id": "RKT4h-9xYwiT",
    "outputId": "311890d7-c2c2-4211-abd9-5668938c5d85"
   },
   "outputs": [
    {
     "name": "stdout",
     "output_type": "stream",
     "text": [
      "Writing model.py\n"
     ]
    }
   ],
   "source": [
    "%%writefile model.py\n",
    "import numpy as np\n",
    "import tensorflow as tf\n",
    "from tensorflow import keras as tfk\n",
    "from tensorflow.keras import layers as tfkl\n",
    "\n",
    "class Model:\n",
    "    def __init__(self):\n",
    "        \"\"\"\n",
    "        Initialize the internal state of the model. Note that the __init__\n",
    "        method cannot accept any arguments.\n",
    "\n",
    "        The following initializes the model with the weights from a pre-trained model.\n",
    "        \"\"\"\n",
    "        # Best values found so far\n",
    "        self.n_dense_layers = 2\n",
    "        self.dropout_rate = 0.35\n",
    "        self.include_dropout = True\n",
    "        self.l2_lambda = 0\n",
    "\n",
    "        self.model = self._create_model(n_dense_layers=self.n_dense_layers, include_dropout=self.include_dropout, dropout_rate=self.dropout_rate, l2_lambda=self.l2_lambda)\n",
    "        # Load the model weights if available\n",
    "        self.model.load_weights('LION_AUGMIX_AUG_MODEL.weights.h5')\n",
    "\n",
    "    def _create_model(\n",
    "            self,\n",
    "            convnext_trainable=False, #standard definitions\n",
    "            n_dense_layers=1, \n",
    "            initial_dense_neurons=1024, \n",
    "            min_neurons=64, # architecture definitions\n",
    "            include_dropout=False, \n",
    "            dropout_rate=0.3, \n",
    "            l2_lambda=0, # against overfitting\n",
    "            learning_rate=1e-4):\n",
    "    \n",
    "        input_shape = (96, 96, 3)\n",
    "        output_shape = 8\n",
    "    \n",
    "        # The input layer\n",
    "        inputs = tfkl.Input(shape=input_shape, name='Input')   \n",
    "\n",
    "\n",
    "        # The convnext layer with include top=False to take the convolutional part only\n",
    "        convnext = tfk.applications.ConvNeXtXLarge(\n",
    "                    input_shape=input_shape,\n",
    "                    weights=None,\n",
    "                    include_top=False\n",
    "                )\n",
    "\n",
    "        # Here we freeze the convnext to perform Tranfer Learning\n",
    "        convnext.trainable = convnext_trainable\n",
    "\n",
    "        x = convnext(inputs)\n",
    "        x = tfkl.GlobalAveragePooling2D()(x)\n",
    "\n",
    "        # Hidden layers building\n",
    "        neurons = initial_dense_neurons\n",
    "        for k in range(n_dense_layers):\n",
    "            x = tfkl.Dense(units=neurons, activation='silu', name=f'Dense_layer_{k}', kernel_regularizer=tfk.regularizers.L2(l2_lambda))(x)\n",
    "            if include_dropout:\n",
    "                x = tfkl.Dropout(dropout_rate, name=f'Dropout_layer_{k}')(x)\n",
    "            neurons = max(neurons // 2, min_neurons)\n",
    "        outputs = tfkl.Dense(output_shape, activation='softmax', name='output_layer')(x)\n",
    "\n",
    "        # Final model building\n",
    "        model = tfk.Model(inputs=inputs, outputs=outputs, name='TF-CNN')\n",
    "\n",
    "        # Compile the model\n",
    "        loss = tfk.losses.CategoricalFocalCrossentropy(\n",
    "                                                alpha=0.25,\n",
    "                                                gamma=2.0,\n",
    "                                                from_logits=False,\n",
    "                                                label_smoothing=0.0,\n",
    "                                                axis=-1,\n",
    "                                                reduction=\"sum_over_batch_size\",\n",
    "                                                name=\"categorical_focal_crossentropy\",\n",
    "                                                dtype=None,\n",
    "                                            )\n",
    "        # Metrics definition\n",
    "        #weighted_macro_f1 = WeightedMacroF1Score(num_classes=n_labels)\n",
    "        METRICS = [tfk.metrics.CategoricalAccuracy()]\n",
    "        optimizer = tfk.optimizers.Lion(learning_rate)\n",
    "        \n",
    "        model.compile(loss=loss, optimizer=optimizer, metrics=METRICS)\n",
    "\n",
    "        # Return the model\n",
    "        return model\n",
    "    \n",
    "    def predict(self, X):\n",
    "        \"\"\"\n",
    "        Predict the labels corresponding to the input X. Note that X is a numpy\n",
    "        array of shape (n_samples, 224, 224, 3) and the output should be a numpy\n",
    "        array of shape (n_samples,). The outputs are not one-hot encoded.\n",
    "\n",
    "        The following is an example of a prediction from the model.\n",
    "        \"\"\"\n",
    "        preds = self.model.predict(X)\n",
    "        if len(preds.shape) == 2:  # If the output is one-hot encoded, we convert it\n",
    "            preds = np.argmax(preds, axis=1)\n",
    "        return preds"
   ]
  },
  {
   "cell_type": "code",
   "execution_count": 2,
   "metadata": {
    "colab": {
     "base_uri": "https://localhost:8080/",
     "height": 69
    },
    "id": "s18kX1uDconq",
    "outputId": "3ac1a2b4-a8cc-45a3-ef9c-8d0bd0990594"
   },
   "outputs": [
    {
     "name": "stdout",
     "output_type": "stream",
     "text": [
      "  adding: model.py (164 bytes security) (deflated 65%)\n",
      "  adding: LION_AUGMIX_AUG_MODEL.weights.h5 (164 bytes security) (deflated 7%)\n"
     ]
    }
   ],
   "source": [
    "from datetime import datetime\n",
    "filename = f'submission_{datetime.now().strftime(\"%y%m%d_%H%M%S\")}.zip'\n",
    "\n",
    "# Add files to the zip command if needed\n",
    "!zip {filename} model.py LION_AUGMIX_AUG_MODEL.weights.h5"
   ]
  },
  {
   "cell_type": "code",
   "execution_count": 1,
   "metadata": {
    "id": "STH60SBk1j_W"
   },
   "outputs": [],
   "source": [
    "import numpy as np\n",
    "import tensorflow as tf\n",
    "from tensorflow import keras as tfk\n",
    "from tensorflow.keras import layers as tfkl\n",
    "\n",
    "class Model:\n",
    "    def __init__(self):\n",
    "        \"\"\"\n",
    "        Initialize the internal state of the model. Note that the __init__\n",
    "        method cannot accept any arguments.\n",
    "\n",
    "        The following initializes the model with the weights from a pre-trained model.\n",
    "        \"\"\"\n",
    "        # Best values found so far\n",
    "        self.n_dense_layers = 2\n",
    "        self.dropout_rate = 0.35\n",
    "        self.include_dropout = True\n",
    "        self.l2_lambda = 0\n",
    "\n",
    "        self.model = self._create_model(n_dense_layers=self.n_dense_layers, include_dropout=self.include_dropout, dropout_rate=self.dropout_rate, l2_lambda=self.l2_lambda)\n",
    "        # Load the model weights if available\n",
    "        self.model.load_weights('LION_AUGMIX_AUG_MODEL.weights.h5')\n",
    "\n",
    "    def _create_model(\n",
    "            self,\n",
    "            convnext_trainable=False, #standard definitions\n",
    "            n_dense_layers=1, \n",
    "            initial_dense_neurons=1024, \n",
    "            min_neurons=64, # architecture definitions\n",
    "            include_dropout=False, \n",
    "            dropout_rate=0.3, \n",
    "            l2_lambda=0, # against overfitting\n",
    "            learning_rate=1e-4):\n",
    "    \n",
    "        input_shape = (96, 96, 3)\n",
    "        output_shape = 8\n",
    "    \n",
    "        # The input layer\n",
    "        inputs = tfkl.Input(shape=input_shape, name='Input')   \n",
    "\n",
    "\n",
    "        # The convnext layer with include top=False to take the convolutional part only\n",
    "        convnext = tfk.applications.ConvNeXtXLarge(\n",
    "                    input_shape=input_shape,\n",
    "                    weights=None,\n",
    "                    include_top=False\n",
    "                )\n",
    "\n",
    "        # Here we freeze the convnext to perform Tranfer Learning\n",
    "        convnext.trainable = convnext_trainable\n",
    "\n",
    "        x = convnext(inputs)\n",
    "        x = tfkl.GlobalAveragePooling2D()(x)\n",
    "\n",
    "        # Hidden layers building\n",
    "        neurons = initial_dense_neurons\n",
    "        for k in range(n_dense_layers):\n",
    "            x = tfkl.Dense(units=neurons, activation='silu', name=f'Dense_layer_{k}', kernel_regularizer=tfk.regularizers.L2(l2_lambda))(x)\n",
    "            if include_dropout:\n",
    "                x = tfkl.Dropout(dropout_rate, name=f'Dropout_layer_{k}')(x)\n",
    "            neurons = max(neurons // 2, min_neurons)\n",
    "        outputs = tfkl.Dense(output_shape, activation='softmax', name='output_layer')(x)\n",
    "\n",
    "        # Final model building\n",
    "        model = tfk.Model(inputs=inputs, outputs=outputs, name='TF-CNN')\n",
    "\n",
    "        # Compile the model\n",
    "        loss = tfk.losses.CategoricalFocalCrossentropy(\n",
    "                                                alpha=0.25,\n",
    "                                                gamma=2.0,\n",
    "                                                from_logits=False,\n",
    "                                                label_smoothing=0.0,\n",
    "                                                axis=-1,\n",
    "                                                reduction=\"sum_over_batch_size\",\n",
    "                                                name=\"categorical_focal_crossentropy\",\n",
    "                                                dtype=None,\n",
    "                                            )\n",
    "        # Metrics definition\n",
    "        #weighted_macro_f1 = WeightedMacroF1Score(num_classes=n_labels)\n",
    "        METRICS = [tfk.metrics.CategoricalAccuracy()]\n",
    "        optimizer = tfk.optimizers.Lion(learning_rate)\n",
    "        \n",
    "        model.compile(loss=loss, optimizer=optimizer, metrics=METRICS)\n",
    "\n",
    "        # Return the model\n",
    "        return model\n",
    "    \n",
    "    def predict(self, X):\n",
    "        \"\"\"\n",
    "        Predict the labels corresponding to the input X. Note that X is a numpy\n",
    "        array of shape (n_samples, 224, 224, 3) and the output should be a numpy\n",
    "        array of shape (n_samples,). The outputs are not one-hot encoded.\n",
    "\n",
    "        The following is an example of a prediction from the model.\n",
    "        \"\"\"\n",
    "        preds = self.model.predict(X)\n",
    "        if len(preds.shape) == 2:  # If the output is one-hot encoded, we convert it\n",
    "            preds = np.argmax(preds, axis=1)\n",
    "        return preds"
   ]
  },
  {
   "cell_type": "code",
   "execution_count": 2,
   "metadata": {
    "colab": {
     "base_uri": "https://localhost:8080/"
    },
    "id": "NqRaTyPh2Ozt",
    "outputId": "454bf480-748e-4ede-950f-b10ccf55e40d"
   },
   "outputs": [
    {
     "name": "stdout",
     "output_type": "stream",
     "text": [
      "WARNING:tensorflow:From c:\\Users\\camil\\anaconda3\\Lib\\site-packages\\keras\\src\\backend\\tensorflow\\core.py:204: The name tf.placeholder is deprecated. Please use tf.compat.v1.placeholder instead.\n",
      "\n"
     ]
    },
    {
     "name": "stderr",
     "output_type": "stream",
     "text": [
      "c:\\Users\\camil\\anaconda3\\Lib\\site-packages\\keras\\src\\saving\\saving_lib.py:719: UserWarning: Skipping variable loading for optimizer 'lion', because it has 2 variables whereas the saved optimizer has 8 variables. \n",
      "  saveable.load_own_variables(weights_store.get(inner_path))\n"
     ]
    }
   ],
   "source": [
    "model = Model()"
   ]
  },
  {
   "cell_type": "code",
   "execution_count": 3,
   "metadata": {
    "id": "ms2H3q-q2Xvd"
   },
   "outputs": [],
   "source": [
    "del model"
   ]
  },
  {
   "cell_type": "code",
   "execution_count": null,
   "metadata": {},
   "outputs": [],
   "source": []
  }
 ],
 "metadata": {
  "colab": {
   "provenance": []
  },
  "kernelspec": {
   "display_name": "base",
   "language": "python",
   "name": "python3"
  },
  "language_info": {
   "codemirror_mode": {
    "name": "ipython",
    "version": 3
   },
   "file_extension": ".py",
   "mimetype": "text/x-python",
   "name": "python",
   "nbconvert_exporter": "python",
   "pygments_lexer": "ipython3",
   "version": "3.12.7"
  }
 },
 "nbformat": 4,
 "nbformat_minor": 0
}
